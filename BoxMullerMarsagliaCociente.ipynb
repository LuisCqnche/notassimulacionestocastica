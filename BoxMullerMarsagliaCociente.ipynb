{
 "cells": [
  {
   "cell_type": "markdown",
   "id": "a3b60e51-e053-4df5-ab86-665d8a527163",
   "metadata": {},
   "source": [
    "# El método de Box-Müller, Marsaglia y el cociente de uniformes"
   ]
  },
  {
   "cell_type": "markdown",
   "id": "c9e5220d-ba00-46e0-9cac-bc69d191b527",
   "metadata": {},
   "source": [
    "## Método de Box-Müller\n",
    "El método de Box-Müller nos permite simular un par de variables aleatorias que se distribuyen $N(0,1)$ y que son independientes. Primero se presenta la siguiente justificación. Sean $X$ y $Y$ variables aleatorias independientes que se distribuyen normal estándar, $(X,Y)$ nos representa un vector aleatorio que en su forma polar es $(\\theta, R)$, se puede verificar que $\\theta \\sim U(0,2 \\pi)$ y $R$ tiene la distribución de Rayleigh (la distribución de la raíz cuadrada de una v.a. exponencial de parámetro 1, además ambas son independientes. De la transformación de coordenadas tenemos que\\\n",
    "$X = R \\cdot \\cos(\\theta)$ \\\n",
    "$Y = R \\cdot \\sin(\\theta)$\\\n",
    "$\\theta$ y $R$ son fáciles de simular, ya que si $U_1$ y $U_2$ son variables aleatorias independientes que se distribuyen uniforme en $(0,1)$, entonces $\\theta = 2 \\pi U_1 \\sim U(0,2 \\pi)$ , y además $V = -2 \\ln(U_2) \\sim exp(1)$, por lo tanto $R$ se distribuye como $\\sqrt{V}$. Con esto obtenemos el siguiente algoritmo que se le conoce como método de Box-Müller.\n",
    "1. Genera $U_1$ y $U_2$ variables aleatorias uniformes en $(0,1)$.\n",
    "2. Regresa las variables aleatorias normales estándar e independientes definidas como:\\\n",
    "   $X =  \\sqrt{-2 \\ln(U_2)} \\cdot \\cos(2 \\pi U_1)$ \\\n",
    "   $Y = \\sqrt{-2 \\ln(U_2)} \\cdot \\sin(2 \\pi U_1)$\n",
    "\n",
    "   \n",
    "Simulamos el algoritmo con el siguiente programa, simularemos una v.a. normal estándar llamada $Z$.\n"
   ]
  },
  {
   "cell_type": "code",
   "execution_count": 1,
   "id": "43d3ffe1-9f39-4b90-aa68-f7736cb2ebcb",
   "metadata": {},
   "outputs": [],
   "source": [
    "set.seed(10) \n",
    "#generamos un total de 500 uniformes, repartidas en U1 y U2\n",
    "U1 <- runif(250) \n",
    "U2 <- runif(250) \n",
    "\n",
    "theta <- 2*pi*U1 #Esta theta (muestras de la v.a. theta) es la misma que la teorica vista en clase\n",
    "R <- sqrt(-2*log(U2, base=exp(1))) #Esta R (muestras de la v.a. R) es la misma que la teorica vista en clase\n",
    "\n",
    "#Por el teorema demostrado en clase sabemos que X y Y se distribuyen N(0,1) y son independientes\n",
    "X <- R * cos(theta) \n",
    "Y <- R * sin(theta)\n",
    "Z <- c(X,Y) #Juntamos X y Y para tener un total de 500 muestras"
   ]
  },
  {
   "cell_type": "code",
   "execution_count": 2,
   "id": "f573f684-0cfc-4d1b-9e92-23f4fcbdfd07",
   "metadata": {},
   "outputs": [
    {
     "data": {
      "text/html": [
       "<ol class=list-inline>\n",
       "\t<li>-1.84943236017831</li>\n",
       "\t<li>-0.18035833237081</li>\n",
       "\t<li>-0.908658113606987</li>\n",
       "\t<li>-0.611048530839493</li>\n",
       "\t<li>1.69378009616954</li>\n",
       "\t<li>0.0977779922509543</li>\n",
       "\t<li>-0.220065020472852</li>\n",
       "\t<li>-0.178813187766647</li>\n",
       "\t<li>-1.55692944490856</li>\n",
       "\t<li>-0.548833315418912</li>\n",
       "</ol>\n"
      ],
      "text/latex": [
       "\\begin{enumerate*}\n",
       "\\item -1.84943236017831\n",
       "\\item -0.18035833237081\n",
       "\\item -0.908658113606987\n",
       "\\item -0.611048530839493\n",
       "\\item 1.69378009616954\n",
       "\\item 0.0977779922509543\n",
       "\\item -0.220065020472852\n",
       "\\item -0.178813187766647\n",
       "\\item -1.55692944490856\n",
       "\\item -0.548833315418912\n",
       "\\end{enumerate*}\n"
      ],
      "text/markdown": [
       "1. -1.84943236017831\n",
       "2. -0.18035833237081\n",
       "3. -0.908658113606987\n",
       "4. -0.611048530839493\n",
       "5. 1.69378009616954\n",
       "6. 0.0977779922509543\n",
       "7. -0.220065020472852\n",
       "8. -0.178813187766647\n",
       "9. -1.55692944490856\n",
       "10. -0.548833315418912\n",
       "\n",
       "\n"
      ],
      "text/plain": [
       " [1] -1.84943236 -0.18035833 -0.90865811 -0.61104853  1.69378010  0.09777799\n",
       " [7] -0.22006502 -0.17881319 -1.55692944 -0.54883332"
      ]
     },
     "metadata": {},
     "output_type": "display_data"
    }
   ],
   "source": [
    "Z[1:10] #imprimimos algunos ejemplos de la muestra"
   ]
  },
  {
   "cell_type": "code",
   "execution_count": 3,
   "id": "843a65e3-ae67-403f-a492-2005ad6ff140",
   "metadata": {},
   "outputs": [
    {
     "data": {
      "image/png": "[encoded data removed]",
      "text/plain": [
       "Plot with title \"Histograma de muestras de una N(0,1)\""
      ]
     },
     "metadata": {},
     "output_type": "display_data"
    }
   ],
   "source": [
    "hist(Z, freq=F,\n",
    "     main = \"Histograma de muestras de una N(0,1)\",\n",
    "      xlab = \"Z\",)\n",
    "curve(dnorm(x),  col=\"darkblue\",\n",
    "      lwd=2, add=TRUE, yaxt=\"n\")"
   ]
  },
  {
   "cell_type": "markdown",
   "id": "3741d20f-f756-4178-8ef3-a25d247a2bb5",
   "metadata": {},
   "source": [
    "Notamos que si queremos simular una v.a. que se distribuye $N(\\mu, \\sigma^2)$ basta hacer la transformación $\\sigma Z + \\mu$."
   ]
  },
  {
   "cell_type": "markdown",
   "id": "ed0371b5-72d6-4e68-bf3f-bd45352dc57e",
   "metadata": {},
   "source": [
    "Calculamos $\\mathbb{P}(Z <2)$"
   ]
  },
  {
   "cell_type": "code",
   "execution_count": 4,
   "id": "367abf93-b847-4c70-bc63-c07cb94328af",
   "metadata": {},
   "outputs": [
    {
     "data": {
      "text/html": [
       "0.978"
      ],
      "text/latex": [
       "0.978"
      ],
      "text/markdown": [
       "0.978"
      ],
      "text/plain": [
       "[1] 0.978"
      ]
     },
     "metadata": {},
     "output_type": "display_data"
    }
   ],
   "source": [
    "proba <- sum(Z < 2)/500 #Sumamos los valores de nuestra muestra que son menores que 2 y dividimos entre el total \n",
    "proba"
   ]
  },
  {
   "cell_type": "markdown",
   "id": "b06c7f5f-95da-4fd7-b02b-ceb27acb821f",
   "metadata": {},
   "source": [
    "En la tabla normal vemos lo siguiente:\n",
    "<img src=\"normal2.jpg\">\n",
    "\r\n",
    "Por lo tanto, lo obtenido en la simulación es una buena aproximación.\n"
   ]
  },
  {
   "cell_type": "markdown",
   "id": "f67abbc6-7c14-412c-837c-4a91e393967f",
   "metadata": {},
   "source": [
    "## Método de Marsaglia"
   ]
  },
  {
   "cell_type": "markdown",
   "id": "30361454-4408-45c3-8b28-370e8edde161",
   "metadata": {},
   "source": [
    "## Método de Cociente de uniformes"
   ]
  },
  {
   "cell_type": "markdown",
   "id": "2f7ec65b-a6c6-4c6c-be94-8cd2265a26db",
   "metadata": {},
   "source": [
    "La gráfica de la región S obtenida analiticamente luce como la figura azúl.\n",
    "\n",
    "<img src=\"s.jpg\">"
   ]
  },
  {
   "cell_type": "code",
   "execution_count": 7,
   "id": "259b6a0c-de2f-4be3-9fa7-5b993ab9d498",
   "metadata": {},
   "outputs": [],
   "source": [
    "set.seed(1)\n",
    "X <- c() #Creamos un vector donde meteremos las muestras\n",
    "\n",
    "#Creamos un loop while que se detiene cuando el total de muestras es 500\n",
    "while(length(X)<500) {\n",
    "    #Generamos una uniforme en el cuadrado naranja mostrado en la figura\n",
    "    u = runif(1, 0, 2/sqrt(3)) \n",
    "    v = runif(1, -2/sqrt(3),2/sqrt(3))\n",
    "\n",
    "    #Seleccionamos los puntos que caen la region que definimos como S\n",
    "    #De esta forma creamos una uniforme en S\n",
    "    #Un punto cae en S en cualquiera de los siguientes casos\n",
    "    #Si el punto no cae en S el programa nunca entra al if\n",
    "    #y el ciclo se vuelve a repetir\n",
    "    #Hacemos esto hasta que el total de muestras sean 500\n",
    "    if(sqrt(3)*u^2+u < v & v <= 2*u){\n",
    "        X <- c(X,v/u) #En este caso el punto cae en S y lo agregamos al vector de muestras\n",
    "    } else if(-u <= v & v < u-sqrt(3)*u^2){\n",
    "        X <- c(X,v/u) #En este caso el punto cae en S y lo agregamos al vector de muestras\n",
    "    } \n",
    "}\n"
   ]
  },
  {
   "cell_type": "code",
   "execution_count": 7,
   "id": "6a5460ec-8dc2-47cd-9ea9-e5d996c92483",
   "metadata": {},
   "outputs": [
    {
     "data": {
      "text/html": [
       "<ol class=list-inline>\n",
       "\t<li>-0.963253694624425</li>\n",
       "\t<li>-0.852373493402197</li>\n",
       "\t<li>-0.987249302127737</li>\n",
       "\t<li>0.117837054469545</li>\n",
       "\t<li>-0.730201869688911</li>\n",
       "\t<li>-0.743567980190733</li>\n",
       "</ol>\n"
      ],
      "text/latex": [
       "\\begin{enumerate*}\n",
       "\\item -0.963253694624425\n",
       "\\item -0.852373493402197\n",
       "\\item -0.987249302127737\n",
       "\\item 0.117837054469545\n",
       "\\item -0.730201869688911\n",
       "\\item -0.743567980190733\n",
       "\\end{enumerate*}\n"
      ],
      "text/markdown": [
       "1. -0.963253694624425\n",
       "2. -0.852373493402197\n",
       "3. -0.987249302127737\n",
       "4. 0.117837054469545\n",
       "5. -0.730201869688911\n",
       "6. -0.743567980190733\n",
       "\n",
       "\n"
      ],
      "text/plain": [
       "[1] -0.9632537 -0.8523735 -0.9872493  0.1178371 -0.7302019 -0.7435680"
      ]
     },
     "metadata": {},
     "output_type": "display_data"
    }
   ],
   "source": [
    "head(X) #Imprimimos algunos ejemplos de la muestra"
   ]
  },
  {
   "cell_type": "code",
   "execution_count": 8,
   "id": "ba8799f5-a628-4c49-9200-79cbab7f230a",
   "metadata": {},
   "outputs": [
    {
     "data": {
      "image/png": "[encoded data removed]",
      "text/plain": [
       "Plot with title \"Histograma de X\""
      ]
     },
     "metadata": {},
     "output_type": "display_data"
    }
   ],
   "source": [
    "hist(X, freq=F,breaks=15, #creamos el histograma con las muestras X\n",
    "    main=\"Histograma de X\",\n",
    "    xlab=\"Valores de X\",\n",
    "    ylab=\"freq. relativa\")\n",
    "x <- seq(-1,2,length.out=150)\n",
    "\n",
    "lines(x=x,y=1/3*(1-x)^2, col = \"red\") #Creamos la grafica de h(x) en (-1,2)\n",
    "text(c(2.4,0.375), labels = c(\"1/3*(1-x)^2\"))"
   ]
  }
 ],
 "metadata": {
  "kernelspec": {
   "display_name": "R",
   "language": "R",
   "name": "ir"
  },
  "language_info": {
   "codemirror_mode": "r",
   "file_extension": ".r",
   "mimetype": "text/x-r-source",
   "name": "R",
   "pygments_lexer": "r",
   "version": "3.6.1"
  }
 },
 "nbformat": 4,
 "nbformat_minor": 5
}

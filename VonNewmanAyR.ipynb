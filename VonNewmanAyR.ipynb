{
 "cells": [
  {
   "cell_type": "markdown",
   "id": "25e10060-2684-4ba6-8117-3b673ee9e929",
   "metadata": {},
   "source": [
    "## Método de Von-Neumann y el método de aceptación y rechazo\n",
    "El método de aceptación y rechazo sirve para simular variables aleatorias de cualquier distribución. \n",
    "El método de Von-Neumann es un caso particular del método de aceptación y rechazo. A continuación se dará una breve explicación de como funciona. \n",
    "\n",
    "Supongamos que tenemos una variable aleatoria $X$ con función de densidad $f$ con soporte en $(a,b)$ tal que $f(x) \\leq M$ para $a<x<b$. Además, supongamos que sabemos simular $U \\sim unif(a,b)$. El algoritmo consiste en lo siguiente:\n",
    "1. Generamos un valor de $U \\sim unif(a,b)$.\n",
    "2. Generamos $Y \\sim unif(0,M)$.\n",
    "3. Si $Y \\leq f(U)$ aceptamos el valor de $U$ y lo tomamos como valor de $X$. En caso contrario se desecha el valor de $U$ y regresamos a 1.\n",
    "\n",
    "El algoritmo anterior se basa en la siguiente proposición.\n",
    "\n",
    "**Proposición**. Sean las variables aleatorias definidas anteriormente; $U | Y \\leq f(U)$ tiene función de densidad $f(x)$."
   ]
  },
  {
   "cell_type": "markdown",
   "id": "ba6187bb-1c28-4267-b1fc-10fa6eed7d5a",
   "metadata": {},
   "source": [
    "**Ejemplo:**\n",
    "\n",
    "Sea $f(x) = \\begin{cases}\n",
    "4x & 0 \\leq x < \\frac{1}{2} \\\\\n",
    "4(1-x) & \\frac{1}{2} \\leq x<1 \\\\\n",
    "0 & \\text{en otro caso}\n",
    "\\end{cases}$, simulamos una variable aleatoria con esa distribución."
   ]
  },
  {
   "cell_type": "code",
   "execution_count": 9,
   "id": "f89975ba-5e55-4322-9bae-02a28ac53381",
   "metadata": {},
   "outputs": [],
   "source": [
    "f <- function(x){ #Definimos la función de distribución\n",
    "    if(0<=x & x<0.5){return(4*x)}\n",
    "    if(0.5<=x & x<1){return(4*(1-x))}\n",
    "    return(0)\n",
    "}"
   ]
  },
  {
   "cell_type": "markdown",
   "id": "8550cd7e-f2b2-4442-9b01-d8dd3b0d0001",
   "metadata": {},
   "source": [
    "Es evidente que $M=2$ acota a $f$. Generamos 200 muestras de $X$."
   ]
  },
  {
   "cell_type": "code",
   "execution_count": 10,
   "id": "92af4441-d6e9-4dab-9294-9f9b1b3e7f50",
   "metadata": {},
   "outputs": [],
   "source": [
    "set.seed(1)\n",
    "i <- 1\n",
    "X <- c()\n",
    "M <- 2\n",
    "while(i<=10000){\n",
    "    U <- runif(1) #paso 1\n",
    "    Y <- runif(1, 0, M) #paso 2\n",
    "    if(Y <= f(U)){ # paso 3: Rechazamos o aceptamos U\n",
    "      X[i] <- U\n",
    "      i <- i+1}\n",
    "}"
   ]
  },
  {
   "cell_type": "code",
   "execution_count": 11,
   "id": "6e75e71e-908d-479b-95a1-d4774454d98d",
   "metadata": {},
   "outputs": [
    {
     "data": {
      "text/html": [
       "<ol class=list-inline>\n",
       "\t<li>0.2655086631421</li>\n",
       "\t<li>0.62911404389888</li>\n",
       "\t<li>0.205974574899301</li>\n",
       "\t<li>0.687022846657783</li>\n",
       "\t<li>0.651673766085878</li>\n",
       "</ol>\n"
      ],
      "text/latex": [
       "\\begin{enumerate*}\n",
       "\\item 0.2655086631421\n",
       "\\item 0.62911404389888\n",
       "\\item 0.205974574899301\n",
       "\\item 0.687022846657783\n",
       "\\item 0.651673766085878\n",
       "\\end{enumerate*}\n"
      ],
      "text/markdown": [
       "1. 0.2655086631421\n",
       "2. 0.62911404389888\n",
       "3. 0.205974574899301\n",
       "4. 0.687022846657783\n",
       "5. 0.651673766085878\n",
       "\n",
       "\n"
      ],
      "text/plain": [
       "[1] 0.2655087 0.6291140 0.2059746 0.6870228 0.6516738"
      ]
     },
     "metadata": {},
     "output_type": "display_data"
    }
   ],
   "source": [
    "X[1:5]"
   ]
  },
  {
   "cell_type": "markdown",
   "id": "0073e7ec-91b2-402e-a8b7-542da1991209",
   "metadata": {},
   "source": [
    "Ahora graficamos un histograma para ver si $X$ en efecto tiene distribucion $f$. Graficamos $f$ para ver una mejor comparación."
   ]
  },
  {
   "cell_type": "code",
   "execution_count": 12,
   "id": "374d6e15-7ab8-49fc-997a-148133f9d2f6",
   "metadata": {},
   "outputs": [
    {
     "data": {
      "image/png": "[encoded data removed]",
      "text/plain": [
       "Plot with title \"Histograma valores de X\""
      ]
     },
     "metadata": {},
     "output_type": "display_data"
    }
   ],
   "source": [
    "hist(X, freq = F,\n",
    "    main = \"Histograma valores de X\",\n",
    "    xlab = \"X\",\n",
    "    ylab = \"f(x)\")\n",
    "segments(x0 = c(0,0.5), y0 = c(0,2), x1 = c(0.5,1), y1 = c(2,0), col='red')\n"
   ]
  },
  {
   "cell_type": "markdown",
   "id": "3d503bf7-cc83-4728-9fdc-b0f9a22bbd24",
   "metadata": {},
   "source": [
    "Ahora bien, veamos la generalización del método anterior. A continuación se presenta el método de aceptación y rechazo.\n",
    "\n",
    "Sea $X$ una variable aleatoria con pivote en $ - \\infty \\leq a < b \\leq + \\infty$, con distribución $f$, donde $f$ no es necesariamente acotada. Sea $Z$ una v.a. con densidad $g$ con pivote en $(a,b)$ y que podemos simular facilmente. Y supongamos que existe $c>0$ tal que $f(x) \\leq c\\cdot g(x)$. Para cualquier $x$ en el soporte de $f$. El algoritmo de aceptación y rechazo se basa es el siguiente:\n",
    "1. Generar un valor de $Z$.\n",
    "2. Generar $Y \\sim unif(0, c\\cdot g(Z))$.\n",
    "3. Si $Y \\leq f(Z)$ tomamos el valor de $Z$ como muestra de $X$. En caso contrario rechazamos el valor y repetimos desde 1.\n",
    "\n",
    "El algoritmo anterior esta justificado por la siguiente proposición.\n",
    "\n",
    "**Proposición**. Bajo las suposiciones y variables aleatorias anteriores se tiene que $Z | Y \\leq f(Z)$ tiene función de densidad $f$.\n",
    "\n",
    "**Ejemplo:** \n",
    "\n",
    "Generemos muestras de una variable aleatoria normal estándar $X$, la variable aleatoria auxiliar $Z$ puede ser una que se distribuya $exp(1)$, ya que esta es fácil de generar. Sea $U$ una v.a. uniforme, entonces $Z = -ln(U)$ se distribuye $exp(1)$. Como el pivote de $X$ es $\\mathbb{R}$ entonces primero generaremos $|X|$ con el método de aceptación y rechazo, ya que esta última v.a. tiene un pivote que coincide con el de $Z$, y por un resultado de probabilidad sabemos que $S \\cdot |X|$ se distribuye $N(0,1)$ donde $S = \\begin{cases}\n",
    "1 & \\text{con prob. } \\frac{1}{2}\\\\\n",
    "-1 & \\text{con prob. }\\frac{1}{2}\n",
    "\\end{cases}$.\n",
    "De esto últimos podemos obtener valores de $X$ a partir de  valores de $|X|$. Asimismo, la funcion de densidad de $|X|$ es $f(x) = \\sqrt{\\frac{2}{\\pi}} \\exp\\{\\frac{-x^2}{2}\\}$.\n",
    "Sea $c=\\sqrt{\\dfrac{2e}{\\pi}}$, se puede verificar que esta $c$ cumple con la $c$ de la proposición.\n"
   ]
  },
  {
   "cell_type": "code",
   "execution_count": 17,
   "id": "483f659b-0fb2-486d-ac01-0a85722bfdff",
   "metadata": {},
   "outputs": [],
   "source": [
    "f1 <- function(x){ #\n",
    "    sqrt(2/pi)*exp(-x^2/2)\n",
    "}"
   ]
  },
  {
   "cell_type": "code",
   "execution_count": 18,
   "id": "cbdca17a-44e2-4856-8024-e1ebabbc65c2",
   "metadata": {},
   "outputs": [],
   "source": [
    "i <- 1\n",
    "X <- c()\n",
    "c <- sqrt(2*exp(1)/pi)\n",
    "while(i<=1000){\n",
    "    Z <- -log(runif(1), base = exp(1)) #paso 1\n",
    "    Y <- runif(1, 0, c*exp(-Z)) #paso 2\n",
    "    if(Y <= f1(Z)){ # paso 3: Rechazamos o aceptamos U\n",
    "      X[i] <- Z\n",
    "      i <- i+1}\n",
    "} #Con esto ya generamos los valores de |X|, falta multiplicar por los valores de S\n"
   ]
  },
  {
   "cell_type": "code",
   "execution_count": 19,
   "id": "1fabdd34-f6d9-4ca2-b645-b502dc14c99e",
   "metadata": {},
   "outputs": [],
   "source": [
    "S <- 2*c(runif(10000)<0.5)-1 #Simulamos S\n",
    "X <- S*X #De esta forma ya obtenemos valores de X~N(0,1)"
   ]
  },
  {
   "cell_type": "code",
   "execution_count": 20,
   "id": "e26ed367-5a79-4850-84ee-c7478f315c6c",
   "metadata": {},
   "outputs": [
    {
     "data": {
      "image/png": "[encoded data removed]",
      "text/plain": [
       "Plot with title \"Histograma de valores de X\""
      ]
     },
     "metadata": {},
     "output_type": "display_data"
    }
   ],
   "source": [
    "hist(X, freq=F, main = \"Histograma de valores de X\", xlab=\"X\",ylab=\"f(x)\")\n",
    "curve(dnorm(x), col=\"darkblue\", lwd=2, add=TRUE, yaxt=\"n\")"
   ]
  },
  {
   "cell_type": "code",
   "execution_count": null,
   "id": "4d3e5828-3103-45d9-809b-3fd710c4ed5f",
   "metadata": {},
   "outputs": [],
   "source": []
  }
 ],
 "metadata": {
  "kernelspec": {
   "display_name": "R",
   "language": "R",
   "name": "ir"
  },
  "language_info": {
   "codemirror_mode": "r",
   "file_extension": ".r",
   "mimetype": "text/x-r-source",
   "name": "R",
   "pygments_lexer": "r",
   "version": "3.6.1"
  }
 },
 "nbformat": 4,
 "nbformat_minor": 5
}
